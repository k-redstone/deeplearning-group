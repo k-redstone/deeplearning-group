{
 "cells": [
  {
   "cell_type": "code",
   "execution_count": null,
   "metadata": {},
   "outputs": [],
   "source": [
    "import numpy as np\n",
    "import pandas as pd\n",
    "from sklearn.decomposition import PCA\n",
    "from sklearn.preprocessing import StandardScaler\n",
    "from sklearn.preprocessing import LabelEncoder\n",
    "import matplotlib.pyplot as plt\n",
    "from sklearn.model_selection import train_test_split\n",
    "from sklearn.metrics import accuracy_score\n",
    "from sklearn.linear_model import LogisticRegression\n",
    "from sklearn.model_selection import GridSearchCV\n",
    "\n",
    "from xgboost import XGBClassifier\n",
    "from xgboost import XGBRegressor\n",
    "from xgboost import plot_importance"
   ]
  },
  {
   "cell_type": "code",
   "execution_count": null,
   "metadata": {},
   "outputs": [],
   "source": [
    "# 데이터 불러오기\n",
    "df_train = pd.read_csv(\"src/data/train.csv\") \n",
    "df_test = pd.read_csv(\"src/data/test.csv\")\n",
    "\n",
    "# 결측치 제거\n",
    "df_train = df_train.dropna(axis=1)\n",
    "df_test = df_test.dropna(axis=1)\n",
    "\n",
    "# x와 y분류\n",
    "x = df_train.drop(['ID', 'Y_LABEL'], axis=1)\n",
    "y = df_train['Y_LABEL']\n",
    "\n",
    "# test데이터에서 ID값 제거\n",
    "df_test = df_test.drop(['ID'], axis = 1)\n",
    "\n",
    "x_train, x_valid, y_train, y_valid = train_test_split(x, y, test_size=0.2, stratify=y)\n",
    "\n",
    "scaler = StandardScaler()\n",
    "le = LabelEncoder()\n",
    "\n",
    "# 변수 정규화\n",
    "def get_values(value):\n",
    "  return value.values.reshape(-1, 1)\n",
    "\n",
    "categorical_features = ['COMPONENT_ARBITRARY','YEAR']\n",
    "test_stage_features = ['COMPONENT_ARBITRARY', 'ANONYMOUS_1', 'YEAR' , 'ANONYMOUS_2', 'AG', 'CO', 'CR', 'CU', 'FE', 'H2O', 'MN', 'MO', 'NI', 'PQINDEX', 'TI', 'V', 'V40', 'ZN']\n",
    "\n",
    "for col in x:\n",
    "  if col not in categorical_features:\n",
    "    x_train[col] = scaler.fit_transform(get_values(x_train[col]))\n",
    "    x_valid[col] = scaler.transform(get_values(x_valid[col]))\n",
    "    if col in df_test.columns:\n",
    "        df_test[col] = scaler.transform(get_values(df_test[col]))\n",
    "\n",
    "for col in categorical_features:\n",
    "  x_train[col] = le.fit_transform(x_train[col])\n",
    "  x_valid[col] = le.transform(x_valid[col])\n",
    "  if col in df_test.columns:\n",
    "      df_test[col] = le.transform(df_test[col])"
   ]
  },
  {
   "cell_type": "code",
   "execution_count": null,
   "metadata": {},
   "outputs": [],
   "source": [
    "# Xgboost 이진분류 모델 gridCV로 파라미터 튜닝\n",
    "params = {'n_estimators': [100,200,400,600,800,1000],\n",
    "        'max_depth' : [3,4,6,8,10,12],\n",
    "        'eta' : [0.1], \n",
    "        'objective' : ['binary:logistic']}\n",
    "\n",
    "model = XGBClassifier()\n",
    "model_grid = GridSearchCV(model, param_grid=params, cv=3)\n",
    "model_grid.fit(x_train, y_train, early_stopping_rounds=30, eval_metric='auc', eval_set = [(x_valid, y_valid)])\n",
    "\n",
    "# 최적 파라미터 출력\n",
    "print(model_grid.best_params_)\n",
    "print(model_grid.best_score_)"
   ]
  },
  {
   "cell_type": "code",
   "execution_count": null,
   "metadata": {},
   "outputs": [],
   "source": [
    "# 최적 파라미터로 모델 적용 후 예측값 구하기\n",
    "model = XGBClassifier(n_estimators=200, eta=0.1, max_depth=3, min_child_weight = 3,objective='binary:logistic')\n",
    "model.fit(x_train, y_train, early_stopping_rounds=30, eval_metric='auc', eval_set = [(x_valid, y_valid)])\n",
    "\n",
    "pro = pd.DataFrame(model.predict_proba(x_train))\n",
    "y_reg= pd.DataFrame(pro.iloc[:, 1:2])\n",
    "\n",
    "plot_importance(model)"
   ]
  },
  {
   "cell_type": "code",
   "execution_count": null,
   "metadata": {},
   "outputs": [],
   "source": [
    "# Xgboost 회귀분석 모델 GridCV로 최적 파리미터 탐색\n",
    "xgb_reg = XGBRegressor()\n",
    "parameters = {'learning_rate': [.03, 0.05, .07], #so called `eta` value\n",
    "              'max_depth': [5, 6, 7],\n",
    "              'min_child_weight': [4],\n",
    "              'subsample': [0.4, 0.6,0.8],\n",
    "              'colsample_bytree': [0.2, 0.6, 0.8],\n",
    "              'n_estimators': [500]}\n",
    "\n",
    "xgb_grid = GridSearchCV(xgb_reg,\n",
    "                        parameters,\n",
    "                        cv = 3\n",
    "                        )\n",
    "x_train2, x_test2, y_train2, y_test2 = train_test_split(x_train[test_stage_features], y_reg, test_size=0.2)\n",
    "xgb_grid.fit(x_train2,y_train2)\n",
    "\n",
    "# 최적 파라미터 출력\n",
    "print(xgb_grid.best_params_)\n",
    "print(xgb_grid.best_score_) "
   ]
  },
  {
   "cell_type": "code",
   "execution_count": null,
   "metadata": {},
   "outputs": [],
   "source": [
    "# 최적 파라미터로 회귀분석에 학습 \n",
    "model_reg = XGBRegressor(colsample_bytree= 0.8, learning_rate= 0.03, max_depth= 5, min_child_weight= 2, n_estimators= 500, nthread= 4, subsample= 0.8)\n",
    "model_reg.fit(x_train2, y_train2, early_stopping_rounds=30, eval_metric='rmse', eval_set = [(x_test2, y_test2)])\n",
    "\n",
    "plot_importance(model_reg)"
   ]
  },
  {
   "cell_type": "code",
   "execution_count": null,
   "metadata": {},
   "outputs": [],
   "source": [
    "# 모델에 test데이터 적용\n",
    "\n",
    "y_hat = model_reg.predict(df_test)\n",
    "\n",
    "y_hat = pd.DataFrame(y_hat)\n",
    "y_hat"
   ]
  },
  {
   "cell_type": "code",
   "execution_count": null,
   "metadata": {},
   "outputs": [],
   "source": [
    "submit = pd.read_csv(\"src/data/test.csv\")\n",
    "submit['Y_LABEL'] = y_hat\n",
    "\n",
    "final_submit = pd.DataFrame()\n",
    "final_submit['ID'] = submit['ID']\n",
    "final_submit['Y_LABEL'] = y_hat\n",
    "\n",
    "\n",
    "def get_reg(v):\n",
    "  if v >= 0.355:\n",
    "    score = 1\n",
    "  else:\n",
    "    score = 0\n",
    "  return score\n",
    "\n",
    "final_submit['Y_LABEL'] = final_submit['Y_LABEL'].apply(lambda v: get_reg(v))\n",
    "final_submit\n",
    "\n",
    "final_submit.to_csv('src/submit/submit9.csv', index=False)"
   ]
  },
  {
   "cell_type": "code",
   "execution_count": null,
   "metadata": {},
   "outputs": [],
   "source": []
  }
 ],
 "metadata": {
  "kernelspec": {
   "display_name": "Python 3.9.12 64-bit",
   "language": "python",
   "name": "python3"
  },
  "language_info": {
   "name": "python",
   "version": "3.9.12"
  },
  "orig_nbformat": 4,
  "vscode": {
   "interpreter": {
    "hash": "b0fa6594d8f4cbf19f97940f81e996739fb7646882a419484c72d19e05852a7e"
   }
  }
 },
 "nbformat": 4,
 "nbformat_minor": 2
}
